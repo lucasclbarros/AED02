{
 "cells": [
  {
   "cell_type": "code",
   "execution_count": 5,
   "id": "d9ccaa60-bffe-48c8-89bb-cd8a11ef2812",
   "metadata": {},
   "outputs": [
    {
     "name": "stdin",
     "output_type": "stream",
     "text": [
      "Título do livro Os Segredos da Mente Milionária\n"
     ]
    }
   ],
   "source": [
    "# Livros\n",
    "livros_negocios = [\n",
    "    (\"A Arte da Guerra para Executivos\", \"Donald G. Krause\", 1993),\n",
    "    (\"A Startup Enxuta\", \"Eric Ries\", 2011),\n",
    "    (\"Como Fazer Amigos e Influenciar Pessoas\", \"Dale Carnegie\", 1936),\n",
    "    (\"Empresas Feitas para Vencer\", \"Jim Collins\", 2001),\n",
    "    (\"Mindset: A Nova Psicologia do Sucesso\", \"Carol S. Dweck\", 2006),\n",
    "    (\"O Homem Mais Rico da Babilônia\", \"George S. Clason\", 1926),\n",
    "    (\"O Poder do Hábito\", \"Charles Duhigg\", 2012),\n",
    "    (\"Os Segredos da Mente Milionária\", \"T. Harv Eker\", 2005),\n",
    "    (\"Pai Rico, Pai Pobre\", \"Robert Kiyosaki\", 1997),\n",
    "    (\"Quem Pensa, Enriquece\", \"Napoleon Hill\", 1937)\n",
    "]\n",
    "\n",
    "#Digitar o nome do livro\n",
    "livro = input(\"Título do livro\")\n",
    "\n",
    "#Função de busca\n",
    "def busca_livros(livro, livros_negocios):\n",
    "     esquerda = 0\n",
    "     direita = len(livros_negocios) - 1\n",
    "     while esquerda <= direita:\n",
    "         meio = (esquerda + direita) // 2\n",
    "         if livro == livros_negocios[meio][0]:\n",
    "             return meio\n",
    "         elif livro < livros_negocios[meio][0]:\n",
    "             direita = meio - 1\n",
    "         else:\n",
    "             esquerda = meio + 1\n",
    "     return-1\n",
    "\n"
   ]
  },
  {
   "cell_type": "code",
   "execution_count": 6,
   "id": "86874083-83af-4548-9e95-b855e674cbbd",
   "metadata": {
    "scrolled": true
   },
   "outputs": [
    {
     "data": {
      "text/plain": [
       "7"
      ]
     },
     "execution_count": 6,
     "metadata": {},
     "output_type": "execute_result"
    }
   ],
   "source": [
    "busca_livros(livro, livros_negocios)"
   ]
  },
  {
   "cell_type": "code",
   "execution_count": null,
   "id": "0f3c7553-7f27-40cf-a03b-161dfd9a237c",
   "metadata": {},
   "outputs": [],
   "source": []
  }
 ],
 "metadata": {
  "kernelspec": {
   "display_name": "Python 3 (ipykernel)",
   "language": "python",
   "name": "python3"
  },
  "language_info": {
   "codemirror_mode": {
    "name": "ipython",
    "version": 3
   },
   "file_extension": ".py",
   "mimetype": "text/x-python",
   "name": "python",
   "nbconvert_exporter": "python",
   "pygments_lexer": "ipython3",
   "version": "3.13.5"
  }
 },
 "nbformat": 4,
 "nbformat_minor": 5
}
