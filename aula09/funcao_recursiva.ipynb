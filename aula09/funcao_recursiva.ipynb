{
 "cells": [
  {
   "cell_type": "code",
   "execution_count": 16,
   "id": "859d79b6-1fd7-4d9a-ada1-8efc9bd199aa",
   "metadata": {},
   "outputs": [
    {
     "name": "stdout",
     "output_type": "stream",
     "text": [
      "6\n"
     ]
    }
   ],
   "source": [
    "def soma_digitos(n):\n",
    "    # 1. CASO BASE (Condição de Parada) \n",
    "    if n < 10:\n",
    "        return n\n",
    "\n",
    "    # 2. CASO RECURSIVO (Chamada à própria função)    \n",
    "    else: \n",
    "        ultimo_digito = n % 10\n",
    "        resto_do_numero = n // 10\n",
    "        return ultimo_digito + soma_digitos(resto_do_numero)\n",
    "\n",
    "print(soma_digitos(123))"
   ]
  },
  {
   "cell_type": "code",
   "execution_count": 17,
   "id": "8da78f14-5666-41de-924d-fe4d32aab1b3",
   "metadata": {},
   "outputs": [
    {
     "name": "stdout",
     "output_type": "stream",
     "text": [
      "120\n"
     ]
    }
   ],
   "source": [
    "def fatorial(n):\n",
    "    # 1. CASO BASE (Condição de Parada)\n",
    "    if n == 0 or n == 1:\n",
    "        return 1\n",
    "    \n",
    "    # 2. CASO RECURSIVO (Chamada à própria função)\n",
    "    # n * fatorial(n-1) — o argumento (n-1) move em direção ao Caso Base (1)\n",
    "    else:\n",
    "        return n * fatorial(n - 1)\n",
    "print(fatorial(5))"
   ]
  }
 ],
 "metadata": {
  "kernelspec": {
   "display_name": "Python 3 (ipykernel)",
   "language": "python",
   "name": "python3"
  },
  "language_info": {
   "codemirror_mode": {
    "name": "ipython",
    "version": 3
   },
   "file_extension": ".py",
   "mimetype": "text/x-python",
   "name": "python",
   "nbconvert_exporter": "python",
   "pygments_lexer": "ipython3",
   "version": "3.13.5"
  }
 },
 "nbformat": 4,
 "nbformat_minor": 5
}
