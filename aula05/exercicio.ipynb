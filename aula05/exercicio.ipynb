{
 "cells": [
  {
   "cell_type": "code",
   "execution_count": 4,
   "id": "9f384bea-a023-49bb-ba64-e4d61d335a10",
   "metadata": {},
   "outputs": [],
   "source": [
    "class Pessoa:\n",
    "    def __init_(self, nome, idade):\n",
    "        self.__nome = nome\n",
    "        self.__idade = idade\n",
    "\n",
    "    def fazer_aniversario(self):\n",
    "        self.__idade = self.__idade + 1\n",
    "\n",
    "    def __str__(self):\n",
    "        return f\"{self.__nome}, {self.__idade}\""
   ]
  },
  {
   "cell_type": "code",
   "execution_count": 5,
   "id": "39269c65-57bb-4965-ae7a-a9974658f8f8",
   "metadata": {},
   "outputs": [],
   "source": [
    "pessoa_um = (\"Lucas\", \"22\")"
   ]
  },
  {
   "cell_type": "code",
   "execution_count": 6,
   "id": "cd3d4096-7088-40df-9931-b10d6167b6e9",
   "metadata": {},
   "outputs": [
    {
     "name": "stdout",
     "output_type": "stream",
     "text": [
      "('Lucas', '22')\n"
     ]
    }
   ],
   "source": [
    "print(pessoa_um)"
   ]
  }
 ],
 "metadata": {
  "kernelspec": {
   "display_name": "Python 3 (ipykernel)",
   "language": "python",
   "name": "python3"
  },
  "language_info": {
   "codemirror_mode": {
    "name": "ipython",
    "version": 3
   },
   "file_extension": ".py",
   "mimetype": "text/x-python",
   "name": "python",
   "nbconvert_exporter": "python",
   "pygments_lexer": "ipython3",
   "version": "3.13.5"
  }
 },
 "nbformat": 4,
 "nbformat_minor": 5
}
