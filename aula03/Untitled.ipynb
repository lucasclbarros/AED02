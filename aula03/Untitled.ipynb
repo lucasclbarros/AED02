{
 "cells": [
  {
   "cell_type": "code",
   "execution_count": 2,
   "id": "dfe2726a-6314-4c79-83ce-777a24efdb29",
   "metadata": {},
   "outputs": [],
   "source": [
    "def busca_valor (lista, valor):\n",
    "    for i in range (len(lista)):\n",
    "        if lista [i] == valor:\n",
    "            return i\n",
    "    return -1"
   ]
  },
  {
   "cell_type": "code",
   "execution_count": 9,
   "id": "8fe01ea9-3f44-4b91-a3da-675f45a27da8",
   "metadata": {},
   "outputs": [],
   "source": [
    "def busca_valor2 (lista, valor):\n",
    "    flag = 0\n",
    "    while flag < len(lista):\n",
    "        if lista [flag] == valor:\n",
    "            return flag\n",
    "        flag += 1\n",
    "    return -1"
   ]
  },
  {
   "cell_type": "code",
   "execution_count": 12,
   "id": "ba8bfef7-a911-464c-863f-233c288f91a7",
   "metadata": {},
   "outputs": [
    {
     "name": "stdout",
     "output_type": "stream",
     "text": [
      "2\n",
      "-1\n"
     ]
    }
   ],
   "source": [
    "numeros = [10, 20, 30, 40, 50]\n",
    "\n",
    "print(busca_valor(numeros, 30))\n",
    "print(busca_valor(numeros, 99))"
   ]
  }
 ],
 "metadata": {
  "kernelspec": {
   "display_name": "Python 3 (ipykernel)",
   "language": "python",
   "name": "python3"
  },
  "language_info": {
   "codemirror_mode": {
    "name": "ipython",
    "version": 3
   },
   "file_extension": ".py",
   "mimetype": "text/x-python",
   "name": "python",
   "nbconvert_exporter": "python",
   "pygments_lexer": "ipython3",
   "version": "3.13.5"
  }
 },
 "nbformat": 4,
 "nbformat_minor": 5
}
