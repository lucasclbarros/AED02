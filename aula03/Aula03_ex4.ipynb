{
 "cells": [
  {
   "cell_type": "markdown",
   "id": "20472978-799d-46f9-9f30-ce65874046cc",
   "metadata": {},
   "source": [
    "# Projeto 1 - Lista de Nomes"
   ]
  },
  {
   "cell_type": "code",
   "execution_count": 19,
   "id": "8937f476-3010-47f1-8a40-25921c4d5f0e",
   "metadata": {},
   "outputs": [],
   "source": [
    "def buscar_clientes(nome, lista):\n",
    "    for i in range(len(lista)):\n",
    "        if lista[i] == nome:\n",
    "            return i\n",
    "        return -1"
   ]
  },
  {
   "cell_type": "code",
   "execution_count": 34,
   "id": "f63ca6b4-e0d8-473a-a3e5-3ce529aea917",
   "metadata": {},
   "outputs": [],
   "source": [
    "lista_nomes = [\"Lucas\", \"Antonio\", \"Ana\", \"Rafael\"]"
   ]
  },
  {
   "cell_type": "code",
   "execution_count": 35,
   "id": "8da7e62f-165b-4360-b912-4d3a04aac1a8",
   "metadata": {},
   "outputs": [
    {
     "name": "stdin",
     "output_type": "stream",
     "text": [
      "Digite o nome:  Antonio\n"
     ]
    }
   ],
   "source": [
    "n = input(\"Digite o nome: \")"
   ]
  },
  {
   "cell_type": "code",
   "execution_count": 36,
   "id": "0af0c506-b418-4b70-a9af-62767d959c0d",
   "metadata": {},
   "outputs": [
    {
     "name": "stdout",
     "output_type": "stream",
     "text": [
      "Nome não encontrado!\n"
     ]
    }
   ],
   "source": [
    "i = buscar_clientes(n, lista_nomes)\n",
    "if i == -1:\n",
    "    print(\"Nome não encontrado!\")\n",
    "else:\n",
    "    print(f\"O nome {n} foi encontrado na posição {i}\")"
   ]
  },
  {
   "cell_type": "markdown",
   "id": "34ed78ff-e362-411c-8f8f-3d5777220cc8",
   "metadata": {},
   "source": [
    "# Projeto 2 - Lista de convidados"
   ]
  },
  {
   "cell_type": "code",
   "execution_count": 49,
   "id": "4f75396b-43c8-423c-ac40-f833f1b31fa3",
   "metadata": {},
   "outputs": [],
   "source": [
    "def buscar_convidados(nome, lista):\n",
    "    for i in range(len(lista)):\n",
    "        if lista[i] == nome:\n",
    "            return i\n",
    "        return -1"
   ]
  },
  {
   "cell_type": "code",
   "execution_count": 53,
   "id": "d414127e-bd51-4c58-816d-16a630d1f1cb",
   "metadata": {},
   "outputs": [],
   "source": [
    "lista_convidados = [\"Maximus Quintos\", \"Marcus Aurelios\", \"Ricardo Coração de Leão\", \"Pedro ALvarez Cabral\", \"Balduino IV de Jerusalem\"]"
   ]
  },
  {
   "cell_type": "code",
   "execution_count": 54,
   "id": "b3a1a5e5-b78f-4f5a-b25c-76633c429573",
   "metadata": {},
   "outputs": [
    {
     "name": "stdin",
     "output_type": "stream",
     "text": [
      "Nome: Maximus Quintos\n"
     ]
    }
   ],
   "source": [
    "n = input(\"Nome:\" )"
   ]
  },
  {
   "cell_type": "code",
   "execution_count": 55,
   "id": "1cb842af-af98-4998-82d8-f0b67bdddd76",
   "metadata": {},
   "outputs": [
    {
     "name": "stdout",
     "output_type": "stream",
     "text": [
      "O nome Maximus Quintos foi encontrado na posição 0\n"
     ]
    }
   ],
   "source": [
    "i = buscar_convidados(n, lista_convidados)\n",
    "if i == -1:\n",
    "    print(\"Nome não encontrado!\")\n",
    "else:\n",
    "    print(f\"O nome {n} foi encontrado na posição {i}\")"
   ]
  },
  {
   "cell_type": "code",
   "execution_count": null,
   "id": "e4407dc7-467b-474e-b010-ad1539ec6ea9",
   "metadata": {},
   "outputs": [],
   "source": []
  }
 ],
 "metadata": {
  "kernelspec": {
   "display_name": "Python 3 (ipykernel)",
   "language": "python",
   "name": "python3"
  },
  "language_info": {
   "codemirror_mode": {
    "name": "ipython",
    "version": 3
   },
   "file_extension": ".py",
   "mimetype": "text/x-python",
   "name": "python",
   "nbconvert_exporter": "python",
   "pygments_lexer": "ipython3",
   "version": "3.13.5"
  }
 },
 "nbformat": 4,
 "nbformat_minor": 5
}
